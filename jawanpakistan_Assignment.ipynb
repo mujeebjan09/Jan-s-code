{
 "cells": [
  {
   "cell_type": "code",
   "execution_count": null,
   "id": "908bc0c9",
   "metadata": {},
   "outputs": [],
   "source": [
    "#write a python that prints the following string in a specific format\n"
   ]
  },
  {
   "cell_type": "code",
   "execution_count": 23,
   "id": "7da266d8",
   "metadata": {},
   "outputs": [
    {
     "name": "stdout",
     "output_type": "stream",
     "text": [
      "Twinkle, twinkle, little star, \n",
      "\tHow I wonder what you are! \n",
      "\t\tUp above the world so high, \n",
      "\t\tLike a diamond in the sky. \n",
      "Twinkle, twinkle, little star, \n",
      "\tHow I wonder what you are!\n"
     ]
    }
   ],
   "source": [
    "print(\"Twinkle, twinkle, little star, \\n\\tHow I wonder what you are! \\n\\t\\tUp above the world so high, \\n\\t\\tLike a diamond in the sky. \\nTwinkle, twinkle, little star, \\n\\tHow I wonder what you are!\")\n"
   ]
  },
  {
   "cell_type": "code",
   "execution_count": null,
   "id": "c22f9558",
   "metadata": {},
   "outputs": [],
   "source": [
    "#write a python program that shows the version of python"
   ]
  },
  {
   "cell_type": "code",
   "execution_count": null,
   "id": "5a21a8ad",
   "metadata": {},
   "outputs": [],
   "source": [
    "import sys\n",
    "print(sys.version)\n"
   ]
  },
  {
   "cell_type": "code",
   "execution_count": null,
   "id": "df3f13ae",
   "metadata": {},
   "outputs": [],
   "source": [
    "#write a python program that shows current date and time"
   ]
  },
  {
   "cell_type": "code",
   "execution_count": null,
   "id": "76298c0b",
   "metadata": {},
   "outputs": [],
   "source": [
    "from datetime import datetime\n",
    "now = datetime.now()\n",
    "print(\"date and time now: \", now)"
   ]
  },
  {
   "cell_type": "code",
   "execution_count": null,
   "id": "90541a93",
   "metadata": {},
   "outputs": [],
   "source": [
    "#write a python program that accepts radius of the circle and computes the area"
   ]
  },
  {
   "cell_type": "code",
   "execution_count": null,
   "id": "43db0b3c",
   "metadata": {},
   "outputs": [],
   "source": [
    "from math import pi\n",
    "\n",
    "r = float(input (\"Enter radius of circle : \"))\n",
    "\n",
    "print (\"Area of the circle is: \" + str(pi * r**2))\n",
    "\n"
   ]
  },
  {
   "cell_type": "code",
   "execution_count": null,
   "id": "a118c0b0",
   "metadata": {},
   "outputs": [],
   "source": [
    "#write a python program that accept's users first and last name and prints them in reverse order with space between them"
   ]
  },
  {
   "cell_type": "code",
   "execution_count": null,
   "id": "a53f8850",
   "metadata": {},
   "outputs": [],
   "source": [
    "f_name=input(\"Enter First Name \");\n",
    "L_name=input(\"Enter Last Name \");\n",
    "print(L_name , f_name )"
   ]
  },
  {
   "cell_type": "code",
   "execution_count": null,
   "id": "2d5a211e",
   "metadata": {},
   "outputs": [],
   "source": [
    "#write a python program that takes 2 inputs from the user and prints them in addition"
   ]
  },
  {
   "cell_type": "code",
   "execution_count": null,
   "id": "ce10c6cc",
   "metadata": {},
   "outputs": [],
   "source": [
    "a=int(input(\"write an even number \"))\n",
    "b=int(input(\"write an odd number \"))\n",
    "print(a+b)"
   ]
  },
  {
   "cell_type": "markdown",
   "id": "aa40c1a4",
   "metadata": {},
   "source": []
  }
 ],
 "metadata": {
  "kernelspec": {
   "display_name": "Python 3 (ipykernel)",
   "language": "python",
   "name": "python3"
  },
  "language_info": {
   "codemirror_mode": {
    "name": "ipython",
    "version": 3
   },
   "file_extension": ".py",
   "mimetype": "text/x-python",
   "name": "python",
   "nbconvert_exporter": "python",
   "pygments_lexer": "ipython3",
   "version": "3.9.7"
  }
 },
 "nbformat": 4,
 "nbformat_minor": 5
}
