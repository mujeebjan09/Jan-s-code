{
 "cells": [
  {
   "cell_type": "code",
   "execution_count": null,
   "id": "530cbde6",
   "metadata": {},
   "outputs": [],
   "source": [
    "#write a python that prints the following string in a specific format\n"
   ]
  },
  {
   "cell_type": "code",
   "execution_count": null,
   "id": "6519e1c9",
   "metadata": {},
   "outputs": [],
   "source": [
    "print(\"Twinkle, twinkle, little star, \\n\\tHow I wonder what you are! \\n\\t\\tUp above the world so high, \\n\\t\\tLike a diamond in the sky. \\nTwinkle, twinkle, little star, \\n\\tHow I wonder what you are!\")\n"
   ]
  },
  {
   "cell_type": "code",
   "execution_count": null,
   "id": "2db4bbbc",
   "metadata": {},
   "outputs": [],
   "source": [
    "#write a python program that shows the version of python"
   ]
  },
  {
   "cell_type": "code",
   "execution_count": null,
   "id": "bf3a7ec2",
   "metadata": {},
   "outputs": [],
   "source": [
    "import sys\n",
    "print(sys.version)\n"
   ]
  },
  {
   "cell_type": "code",
   "execution_count": null,
   "id": "83c76643",
   "metadata": {},
   "outputs": [],
   "source": [
    "#write a python program that shows current date and time"
   ]
  },
  {
   "cell_type": "code",
   "execution_count": null,
   "id": "bf12fe7d",
   "metadata": {},
   "outputs": [],
   "source": [
    "from datetime import datetime\n",
    "now = datetime.now()\n",
    "print(\"date and time now: \", now)"
   ]
  },
  {
   "cell_type": "code",
   "execution_count": null,
   "id": "25670530",
   "metadata": {},
   "outputs": [],
   "source": [
    "#write a python program that accepts radius of the circle and computes the area"
   ]
  },
  {
   "cell_type": "code",
   "execution_count": null,
   "id": "8cde695e",
   "metadata": {},
   "outputs": [],
   "source": [
    "from math import pi\n",
    "\n",
    "r = float(input (\"Enter radius of circle : \"))\n",
    "\n",
    "print (\"Area of the circle is: \" + str(pi * r**2))\n",
    "\n"
   ]
  },
  {
   "cell_type": "code",
   "execution_count": null,
   "id": "c3348b02",
   "metadata": {},
   "outputs": [],
   "source": [
    "#write a python program that accept's users first and last name and prints them in reverse order with space between them"
   ]
  },
  {
   "cell_type": "code",
   "execution_count": null,
   "id": "38008a4f",
   "metadata": {},
   "outputs": [],
   "source": [
    "f_name=input(\"Enter First Name \");\n",
    "L_name=input(\"Enter Last Name \");\n",
    "print(L_name , f_name )"
   ]
  },
  {
   "cell_type": "code",
   "execution_count": null,
   "id": "1de0258f",
   "metadata": {},
   "outputs": [],
   "source": [
    "#write a python program that takes 2 inputs from the user and prints them in addition"
   ]
  },
  {
   "cell_type": "code",
   "execution_count": null,
   "id": "2e6b8991",
   "metadata": {},
   "outputs": [],
   "source": [
    "a=int(input(\"write an even number \"))\n",
    "b=int(input(\"write an odd number \"))\n",
    "print(a+b)"
   ]
  },
  {
   "cell_type": "markdown",
   "id": "72d854f5",
   "metadata": {},
   "source": []
  }
 ],
 "metadata": {
  "kernelspec": {
   "display_name": "Python 3 (ipykernel)",
   "language": "python",
   "name": "python3"
  },
  "language_info": {
   "codemirror_mode": {
    "name": "ipython",
    "version": 3
   },
   "file_extension": ".py",
   "mimetype": "text/x-python",
   "name": "python",
   "nbconvert_exporter": "python",
   "pygments_lexer": "ipython3",
   "version": "3.9.7"
  }
 },
 "nbformat": 4,
 "nbformat_minor": 5
}
